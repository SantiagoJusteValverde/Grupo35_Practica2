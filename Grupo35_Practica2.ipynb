{
  "nbformat": 4,
  "nbformat_minor": 0,
  "metadata": {
    "colab": {
      "provenance": [],
      "authorship_tag": "ABX9TyNWlQkJJJn/zgxWByUHpLx5",
      "include_colab_link": true
    },
    "kernelspec": {
      "name": "python3",
      "display_name": "Python 3"
    },
    "language_info": {
      "name": "python"
    }
  },
  "cells": [
    {
      "cell_type": "markdown",
      "metadata": {
        "id": "view-in-github",
        "colab_type": "text"
      },
      "source": [
        "<a href=\"https://colab.research.google.com/github/SantiagoJusteValverde/Grupo35_Practica2/blob/main/Grupo35_Practica2.ipynb\" target=\"_parent\"><img src=\"https://colab.research.google.com/assets/colab-badge.svg\" alt=\"Open In Colab\"/></a>"
      ]
    },
    {
      "cell_type": "code",
      "execution_count": 16,
      "metadata": {
        "id": "YXhYJH4LpGW5"
      },
      "outputs": [],
      "source": [
        "%matplotlib inline\n",
        "#######\n",
        "# Importamos todas las dependencias\n",
        "import numpy as np\n",
        "import matplotlib.pyplot as plt\n",
        "\n",
        "\n",
        "from sklearn.compose import ColumnTransformer\n",
        "from sklearn.datasets import fetch_openml\n",
        "from sklearn.pipeline import Pipeline, make_pipeline\n",
        "from sklearn.decomposition import PCA\n",
        "from sklearn.impute import SimpleImputer, KNNImputer\n",
        "from sklearn.preprocessing import RobustScaler, OneHotEncoder, OrdinalEncoder\n",
        "from sklearn.ensemble import RandomForestClassifier\n",
        "from sklearn.model_selection import train_test_split, cross_val_score, RandomizedSearchCV\n",
        "from sklearn import metrics\n",
        "\n",
        "np.random.seed(35)"
      ]
    },
    {
      "cell_type": "code",
      "source": [
        "from google.colab import drive\n",
        "drive.mount('/content/drive/', force_remount=True)"
      ],
      "metadata": {
        "colab": {
          "base_uri": "https://localhost:8080/"
        },
        "id": "XyQfOPqWw4f9",
        "outputId": "4c2b12e7-2322-4af5-8262-3de552e89931"
      },
      "execution_count": 17,
      "outputs": [
        {
          "output_type": "stream",
          "name": "stdout",
          "text": [
            "Mounted at /content/drive/\n"
          ]
        }
      ]
    },
    {
      "cell_type": "code",
      "source": [
        "from google.colab import drive\n",
        "drive.mount('/content/drive')"
      ],
      "metadata": {
        "colab": {
          "base_uri": "https://localhost:8080/"
        },
        "id": "unCmNF6Vw4OQ",
        "outputId": "9c91c667-4d39-43eb-95bb-744f8b005418"
      },
      "execution_count": 18,
      "outputs": [
        {
          "output_type": "stream",
          "name": "stdout",
          "text": [
            "Drive already mounted at /content/drive; to attempt to forcibly remount, call drive.mount(\"/content/drive\", force_remount=True).\n"
          ]
        }
      ]
    },
    {
      "cell_type": "code",
      "source": [
        "path = \"/content/drive/MyDrive/Copia Seguridad/D:/santi/Escritorio/Universidad/Quinto/Segundo cuatrimestre/Aprendizaje Automático/Grupo/Aprendizaje Automático/Práctica 2/\"\n",
        "inputFilename = \"attrition_available_35.pkl\""
      ],
      "metadata": {
        "id": "5vRpxHidw7Yw"
      },
      "execution_count": 19,
      "outputs": []
    },
    {
      "cell_type": "code",
      "source": [
        "import pickle\n",
        "import pandas as pd\n",
        "\n",
        "with open(path + inputFilename, 'rb') as f:\n",
        "    df = pickle.load(f)\n",
        "\n",
        "\n",
        "y = df['Attrition']\n",
        "X = df.drop('Attrition', axis=1)\n",
        "\n",
        "print(X.iloc[0])\n"
      ],
      "metadata": {
        "colab": {
          "base_uri": "https://localhost:8080/"
        },
        "id": "VSimGfGRxhI2",
        "outputId": "7f0eb21d-eb71-4daf-f69c-c30ad63d4659"
      },
      "execution_count": 28,
      "outputs": [
        {
          "output_type": "stream",
          "name": "stdout",
          "text": [
            "hrs                                      7.315971\n",
            "absences                                     13.0\n",
            "JobInvolvement                                2.0\n",
            "PerformanceRating                             4.0\n",
            "EnvironmentSatisfaction                       3.0\n",
            "JobSatisfaction                               2.0\n",
            "WorkLifeBalance                               4.0\n",
            "Age                                          31.0\n",
            "BusinessTravel                  Travel_Frequently\n",
            "Department                 Research & Development\n",
            "DistanceFromHome                             10.0\n",
            "Education                                       1\n",
            "EducationField                      Life Sciences\n",
            "EmployeeCount                                 1.0\n",
            "EmployeeID                                      2\n",
            "Gender                                     Female\n",
            "JobLevel                                      NaN\n",
            "JobRole                                       NaN\n",
            "MaritalStatus                              Single\n",
            "MonthlyIncome                             41890.0\n",
            "NumCompaniesWorked                            NaN\n",
            "Over18                                          Y\n",
            "PercentSalaryHike                              23\n",
            "StandardHours                                 8.0\n",
            "StockOptionLevel                              1.0\n",
            "TotalWorkingYears                             6.0\n",
            "TrainingTimesLastYear                         3.0\n",
            "YearsAtCompany                                5.0\n",
            "YearsSinceLastPromotion                       1.0\n",
            "YearsWithCurrManager                          4.0\n",
            "Name: 1, dtype: object\n"
          ]
        }
      ]
    }
  ]
}